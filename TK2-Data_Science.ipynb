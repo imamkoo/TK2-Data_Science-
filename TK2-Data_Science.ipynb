{
 "cells": [
  {
   "cell_type": "code",
   "execution_count": 65,
   "id": "4b85801e",
   "metadata": {
    "scrolled": true
   },
   "outputs": [
    {
     "data": {
      "text/html": [
       "<div>\n",
       "<style scoped>\n",
       "    .dataframe tbody tr th:only-of-type {\n",
       "        vertical-align: middle;\n",
       "    }\n",
       "\n",
       "    .dataframe tbody tr th {\n",
       "        vertical-align: top;\n",
       "    }\n",
       "\n",
       "    .dataframe thead th {\n",
       "        text-align: right;\n",
       "    }\n",
       "</style>\n",
       "<table border=\"1\" class=\"dataframe\">\n",
       "  <thead>\n",
       "    <tr style=\"text-align: right;\">\n",
       "      <th></th>\n",
       "      <th>No</th>\n",
       "      <th>Ukuran</th>\n",
       "      <th>Lantai</th>\n",
       "      <th>tarifInternet</th>\n",
       "      <th>tipeBangunan</th>\n",
       "      <th>hargaSewa</th>\n",
       "    </tr>\n",
       "  </thead>\n",
       "  <tbody>\n",
       "    <tr>\n",
       "      <th>0</th>\n",
       "      <td>1</td>\n",
       "      <td>510</td>\n",
       "      <td>4</td>\n",
       "      <td>8</td>\n",
       "      <td>C</td>\n",
       "      <td>320</td>\n",
       "    </tr>\n",
       "    <tr>\n",
       "      <th>1</th>\n",
       "      <td>2</td>\n",
       "      <td>550</td>\n",
       "      <td>7</td>\n",
       "      <td>50</td>\n",
       "      <td>A</td>\n",
       "      <td>385</td>\n",
       "    </tr>\n",
       "    <tr>\n",
       "      <th>2</th>\n",
       "      <td>3</td>\n",
       "      <td>620</td>\n",
       "      <td>9</td>\n",
       "      <td>7</td>\n",
       "      <td>C</td>\n",
       "      <td>400</td>\n",
       "    </tr>\n",
       "    <tr>\n",
       "      <th>3</th>\n",
       "      <td>4</td>\n",
       "      <td>630</td>\n",
       "      <td>5</td>\n",
       "      <td>24</td>\n",
       "      <td>B</td>\n",
       "      <td>392</td>\n",
       "    </tr>\n",
       "    <tr>\n",
       "      <th>4</th>\n",
       "      <td>5</td>\n",
       "      <td>655</td>\n",
       "      <td>8</td>\n",
       "      <td>100</td>\n",
       "      <td>A</td>\n",
       "      <td>380</td>\n",
       "    </tr>\n",
       "    <tr>\n",
       "      <th>5</th>\n",
       "      <td>6</td>\n",
       "      <td>700</td>\n",
       "      <td>4</td>\n",
       "      <td>8</td>\n",
       "      <td>C</td>\n",
       "      <td>480</td>\n",
       "    </tr>\n",
       "    <tr>\n",
       "      <th>6</th>\n",
       "      <td>7</td>\n",
       "      <td>780</td>\n",
       "      <td>10</td>\n",
       "      <td>7</td>\n",
       "      <td>C</td>\n",
       "      <td>480</td>\n",
       "    </tr>\n",
       "    <tr>\n",
       "      <th>7</th>\n",
       "      <td>8</td>\n",
       "      <td>800</td>\n",
       "      <td>12</td>\n",
       "      <td>50</td>\n",
       "      <td>A</td>\n",
       "      <td>600</td>\n",
       "    </tr>\n",
       "    <tr>\n",
       "      <th>8</th>\n",
       "      <td>9</td>\n",
       "      <td>920</td>\n",
       "      <td>14</td>\n",
       "      <td>8</td>\n",
       "      <td>C</td>\n",
       "      <td>570</td>\n",
       "    </tr>\n",
       "    <tr>\n",
       "      <th>9</th>\n",
       "      <td>10</td>\n",
       "      <td>1000</td>\n",
       "      <td>9</td>\n",
       "      <td>24</td>\n",
       "      <td>B</td>\n",
       "      <td>620</td>\n",
       "    </tr>\n",
       "  </tbody>\n",
       "</table>\n",
       "</div>"
      ],
      "text/plain": [
       "   No  Ukuran  Lantai  tarifInternet tipeBangunan  hargaSewa\n",
       "0   1     510       4              8            C        320\n",
       "1   2     550       7             50            A        385\n",
       "2   3     620       9              7            C        400\n",
       "3   4     630       5             24            B        392\n",
       "4   5     655       8            100            A        380\n",
       "5   6     700       4              8            C        480\n",
       "6   7     780      10              7            C        480\n",
       "7   8     800      12             50            A        600\n",
       "8   9     920      14              8            C        570\n",
       "9  10    1000       9             24            B        620"
      ]
     },
     "execution_count": 65,
     "metadata": {},
     "output_type": "execute_result"
    }
   ],
   "source": [
    "import pandas as pd\n",
    "import numpy as np\n",
    "import statistics as stats\n",
    "from typing import List\n",
    "\n",
    "data = pd.read_csv('https://raw.githubusercontent.com/imamkoo/TK2-Data_Science-/main/TK2.csv')\n",
    "data"
   ]
  },
  {
   "cell_type": "code",
   "execution_count": 66,
   "id": "151e05f5",
   "metadata": {},
   "outputs": [
    {
     "name": "stdout",
     "output_type": "stream",
     "text": [
      "ukuran : [ 510  550  620  630  655  700  780  800  920 1000]\n",
      "tarif internet : [  8  50   7  24 100   8   7  50   8  24]\n",
      "harga sewa : [320 385 400 392 380 480 480 600 570 620]\n"
     ]
    }
   ],
   "source": [
    "ukuran = data[\"Ukuran\"].to_numpy()\n",
    "tarifinternet = data[\"tarifInternet\"].to_numpy()\n",
    "hargasewa = data[\"hargaSewa\"].to_numpy()\n",
    "\n",
    "print(\"ukuran :\", ukuran)\n",
    "print(\"tarif internet :\", tarifinternet)\n",
    "print(\"harga sewa :\", hargasewa)"
   ]
  },
  {
   "cell_type": "code",
   "execution_count": 67,
   "id": "76280817",
   "metadata": {},
   "outputs": [],
   "source": [
    "def mean(data: List[float]) -> float:\n",
    " return sum(data) / len(data)\n",
    "\n",
    "def _median_odd(data: List[float]) -> float:\n",
    " return sorted(data)[len(data) // 2]\n",
    "\n",
    "def _median_even(data: List[float]) -> float:\n",
    " sorted_data = sorted(data)\n",
    " hi_midpoint = len(data) // 2\n",
    " return (sorted_data[hi_midpoint - 1] + sorted_data[hi_midpoint]) / 2\n",
    "\n",
    "def modus(data: List[float]) -> float:\n",
    " return stats.multimode(data)"
   ]
  },
  {
   "cell_type": "code",
   "execution_count": 68,
   "id": "9c773da7",
   "metadata": {},
   "outputs": [
    {
     "name": "stdout",
     "output_type": "stream",
     "text": [
      "UKURAN\n",
      "Mean : 716.5\n",
      "Median_even : 677.5\n",
      "Modus : [510, 550, 620, 630, 655, 700, 780, 800, 920, 1000]\n",
      "TIdak ada modus karena semua datanya adalah modus\n"
     ]
    }
   ],
   "source": [
    "print(\"UKURAN\")\n",
    "\n",
    "print(\"Mean :\",mean(ukuran))\n",
    "\n",
    "if len(data) % 2 == 0:\n",
    "    print(\"Median_even :\",_median_even(ukuran))\n",
    "else:\n",
    "    print(\"Median_odd :\",_median_odd(ukuran))\n",
    "        \n",
    "if len(modus(ukuran)) == len(ukuran):\n",
    "    print(\"Modus :\", modus(ukuran))\n",
    "    print(\"TIdak ada modus karena semua datanya adalah modus\")\n",
    "else:\n",
    "    print(\"Modus :\", modus(ukuran))"
   ]
  },
  {
   "cell_type": "code",
   "execution_count": 69,
   "id": "d3b2c017",
   "metadata": {},
   "outputs": [
    {
     "name": "stdout",
     "output_type": "stream",
     "text": [
      "TARIF INTERNET\n",
      "Mean : 28.6\n",
      "Median_even : 16.0\n",
      "Modus : [8]\n"
     ]
    }
   ],
   "source": [
    "print(\"TARIF INTERNET\")\n",
    "\n",
    "print(\"Mean :\",mean(tarifinternet))\n",
    "\n",
    "if len(data) % 2 == 0:\n",
    "    print(\"Median_even :\",_median_even(tarifinternet))\n",
    "else:\n",
    "    print(\"Median_odd :\",_median_odd(tarifinternet))\n",
    "        \n",
    "if len(modus(tarifinternet)) == len(tarifinternet):\n",
    "    print(\"Modus :\", modus(tarifinternet))\n",
    "    print(\"TIdak ada modus karena semua datanya adalah modus\")\n",
    "else:\n",
    "    print(\"Modus :\", modus(tarifinternet))"
   ]
  },
  {
   "cell_type": "code",
   "execution_count": 70,
   "id": "48459d99",
   "metadata": {},
   "outputs": [
    {
     "name": "stdout",
     "output_type": "stream",
     "text": [
      "HARGA SEWA\n",
      "Mean : 462.7\n",
      "Median_even : 440.0\n",
      "Modus : [480]\n"
     ]
    }
   ],
   "source": [
    "print(\"HARGA SEWA\")\n",
    "\n",
    "print(\"Mean :\",mean(hargasewa))\n",
    "\n",
    "if len(data) % 2 == 0:\n",
    "    print(\"Median_even :\",_median_even(hargasewa))\n",
    "else:\n",
    "    print(\"Median_odd :\",_median_odd(hargasewa))\n",
    "        \n",
    "if len(modus(hargasewa)) == len(hargasewa):\n",
    "    print(\"Modus :\", modus(hargasewa))\n",
    "    print(\"TIdak ada modus karena semua datanya adalah modus\")\n",
    "else:\n",
    "    print(\"Modus :\", modus(hargasewa))"
   ]
  },
  {
   "cell_type": "code",
   "execution_count": null,
   "id": "15344ecd",
   "metadata": {},
   "outputs": [],
   "source": []
  }
 ],
 "metadata": {
  "colab": {
   "provenance": []
  },
  "kernelspec": {
   "display_name": "Python 3 (ipykernel)",
   "language": "python",
   "name": "python3"
  },
  "language_info": {
   "codemirror_mode": {
    "name": "ipython",
    "version": 3
   },
   "file_extension": ".py",
   "mimetype": "text/x-python",
   "name": "python",
   "nbconvert_exporter": "python",
   "pygments_lexer": "ipython3",
   "version": "3.9.13"
  }
 },
 "nbformat": 4,
 "nbformat_minor": 5
}
